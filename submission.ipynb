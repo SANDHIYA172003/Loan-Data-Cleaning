{
 "cells": [
  {
   "cell_type": "code",
   "execution_count": 8,
   "id": "a4144443",
   "metadata": {},
   "outputs": [],
   "source": [
    "import pandas as pd\n",
    "\n",
    "test_df = pd.read_csv(\"C:/python/test1.csv\")\n",
    "\n"
   ]
  },
  {
   "cell_type": "code",
   "execution_count": 9,
   "id": "70c72c99",
   "metadata": {},
   "outputs": [],
   "source": [
    "\n",
    "loan_ids = test_df['Loan_ID'] \n",
    "\n"
   ]
  },
  {
   "cell_type": "code",
   "execution_count": 10,
   "id": "7f888d09",
   "metadata": {},
   "outputs": [],
   "source": [
    "\n",
    "X_test = test_df.drop(columns=['Loan_ID'], errors='ignore')\n",
    "\n",
    "\n"
   ]
  },
  {
   "cell_type": "code",
   "execution_count": 13,
   "id": "e27451b4",
   "metadata": {},
   "outputs": [],
   "source": [
    "import joblib\n",
    "\n",
    "model = joblib.load(\"C:/DATASCIENCE/final_model.pkl\")\n"
   ]
  },
  {
   "cell_type": "code",
   "execution_count": 17,
   "id": "b5bcab55",
   "metadata": {},
   "outputs": [],
   "source": [
    "submission = pd.DataFrame({\n",
    "    'Loan_ID': loan_ids\n",
    "})\n"
   ]
  },
  {
   "cell_type": "code",
   "execution_count": 18,
   "id": "4561a8b4",
   "metadata": {},
   "outputs": [
    {
     "name": "stdout",
     "output_type": "stream",
     "text": [
      "      Loan_ID\n",
      "0    LP001015\n",
      "1    LP001022\n",
      "2    LP001031\n",
      "3    LP001035\n",
      "4    LP001051\n",
      "..        ...\n",
      "362  LP002971\n",
      "363  LP002975\n",
      "364  LP002980\n",
      "365  LP002986\n",
      "366  LP002989\n",
      "\n",
      "[367 rows x 1 columns]\n"
     ]
    }
   ],
   "source": [
    "print(submission)\n"
   ]
  },
  {
   "cell_type": "code",
   "execution_count": 19,
   "id": "dfb0d30a",
   "metadata": {},
   "outputs": [],
   "source": [
    "submission.to_csv('submission.csv', index=False)\n"
   ]
  }
 ],
 "metadata": {
  "kernelspec": {
   "display_name": "Python 3",
   "language": "python",
   "name": "python3"
  },
  "language_info": {
   "codemirror_mode": {
    "name": "ipython",
    "version": 3
   },
   "file_extension": ".py",
   "mimetype": "text/x-python",
   "name": "python",
   "nbconvert_exporter": "python",
   "pygments_lexer": "ipython3",
   "version": "3.13.5"
  }
 },
 "nbformat": 4,
 "nbformat_minor": 5
}
